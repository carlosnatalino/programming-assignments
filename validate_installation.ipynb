{
 "cells": [
  {
   "cell_type": "markdown",
   "metadata": {},
   "source": [
    "# Applied object-oriented programming\n",
    "\n",
    "Teacher: [Carlos Natalino](https://www.chalmers.se/en/persons/carda/) / Examiner: [Paolo Monti](https://www.chalmers.se/en/persons/mpaolo/)\n",
    "\n",
    "[Course channel on Chalmers Play](https://play.chalmers.se/channel/EEN060_EEN065_Applied_object-oriented_programming/300149)\n",
    "\n",
    "Before you turn this assignment list in, make sure everything runs as expected.\n",
    "First, **restart the kernel** and then **run all cells**.\n",
    "Then, check if all the tests run correctly.\n",
    "Note that if one of the problems present an error, the following ones **will not** be tested.\n",
    "\n",
    "In case of discrepancies between the problem command and the tests, you should solve it having in mind the tests.\n",
    "\n",
    "There are two types of cell:\n",
    "1. *solution cells:* These are the cells where you write your answer, or modify the existing code to solve the problem.\n",
    "2. *test cells:* These cells are used to test whether your solution is correct or not. If the tests run correctly, you should see a message `tests passed`. Otherwise, you should see an error message.\n",
    "\n",
    "**Delete** the line `raise NotImplementedError()` from the problems that you solve.\n",
    "\n",
    "**Do not delete or add any cell in this file.** All cells that you need are already in place.\n",
    "\n",
    "If you want to execute a cell, select the cell and press **CTRL+Enter** (in Windows) or **CMD+Enter** (in macOS) or click on the **Run cell** button.\n",
    "\n",
    "**If you want, you can solve this programming assignment using Google Colab**\n",
    "\n",
    "Link: https://colab.research.google.com/\n",
    "\n",
    "Just uncomment the following installation line to do so."
   ]
  },
  {
   "cell_type": "code",
   "execution_count": 1,
   "metadata": {},
   "outputs": [],
   "source": [
    "# the line below installs all packages in Google Colab.\n",
    "# !pip install redis types-redis python-dotenv matplotlib flask flask-testing toml pytest coverage flake8 requests mypy pylint blinker types-requests isort black lorem-text bs4 pep8-naming"
   ]
  },
  {
   "cell_type": "markdown",
   "metadata": {},
   "source": [
    "The command below will list all the packages installed, confirming that the installation was successful."
   ]
  },
  {
   "cell_type": "code",
   "execution_count": null,
   "metadata": {},
   "outputs": [],
   "source": [
    "!pip freeze"
   ]
  },
  {
   "cell_type": "markdown",
   "metadata": {},
   "source": [
    "**Preparation:** Run the cell below every time you start working on this file, and every time you restart the kernel."
   ]
  },
  {
   "cell_type": "code",
   "execution_count": 3,
   "metadata": {},
   "outputs": [],
   "source": [
    "%load_ext autoreload\n",
    "import sys\n",
    "try:\n",
    "    from utils import validate_python_code\n",
    "except:\n",
    "    print(\"It seems this file is in the wrong folder. \"\n",
    "          \"Make sure to place it in the `programming-assignments` folder/project.\",\n",
    "          file=sys.stderr)"
   ]
  },
  {
   "cell_type": "markdown",
   "metadata": {},
   "source": [
    "---"
   ]
  },
  {
   "cell_type": "markdown",
   "metadata": {
    "deletable": false,
    "editable": false,
    "nbgrader": {
     "cell_type": "markdown",
     "checksum": "86a5da3b632a210bd4f4e2757c2ea7d9",
     "grade": false,
     "grade_id": "cell-title-assignment",
     "locked": true,
     "schema_version": 3,
     "solution": false,
     "task": false
    }
   },
   "source": [
    "## Validation of your installation\n",
    "\n",
    "In this notebook, students check if their installation is working correctly.\n",
    "\n",
    "Note that there are some errors that are purposefully placed here to test your setup.\n",
    "Run all cells in this notebook, and send the result screenshots in canvas.\n",
    "There is an appropriate *computer installation* assignment."
   ]
  },
  {
   "cell_type": "markdown",
   "metadata": {},
   "source": [
    "### Checking installation details"
   ]
  },
  {
   "cell_type": "code",
   "execution_count": null,
   "metadata": {},
   "outputs": [],
   "source": [
    "print(sys.executable)\n",
    "print(sys.version)\n",
    "print(sys.version_info)"
   ]
  },
  {
   "cell_type": "markdown",
   "metadata": {},
   "source": [
    "### Running a few tests"
   ]
  },
  {
   "cell_type": "code",
   "execution_count": null,
   "metadata": {},
   "outputs": [],
   "source": [
    "%%writefile initial_file.py\n",
    "import datetime\n",
    "import getpass\n",
    "import os\n",
    "import platform\n",
    "import random\n",
    "from typing import Sequence\n",
    "\n",
    "from matplotlib.figure import Figure\n",
    "\n",
    "\n",
    "def validating_sum_of_squares(seq: Sequence[str | float | int]) -> Sequence[bool]:\n",
    "    return_seq = []\n",
    "    for element in seq:\n",
    "        try:\n",
    "            temp = False\n",
    "            num = int(element)\n",
    "            if num < 0:\n",
    "                return_seq.append(False)\n",
    "                continue\n",
    "            for i in range(int(num ** 0.5) + 1):\n",
    "                remainder = (num - i ** 2) ** 0.5\n",
    "                if remainder.is_integer():\n",
    "                    return_seq.append(True)\n",
    "                    temp = True\n",
    "                    break\n",
    "            if temp is False:\n",
    "                return_seq.append(False)\n",
    "        except (ValueError, TypeError):\n",
    "            return_seq.append(False)\n",
    "    return return_seq\n",
    "\n",
    "def generate_plot(single_line_fig: Figure):\n",
    "    Numbers = []\n",
    "    for i in range(100):\n",
    "        if i < 50: \n",
    "            Numbers.append(random.randint(0, 10))\n",
    "        else:\n",
    "            Numbers.append(random.randint(10, 20))\n",
    "\n",
    "    axes: Axes = single_line_fig.gca()\n",
    "    axes.set_title(\n",
    "        f\"\"\"If you see this, your installation was successful!\n",
    "        Date: {datetime.datetime.now()}\n",
    "        Folder: {os.getcwd()}\n",
    "        User: {getpass.getuser()}\n",
    "        OS: {platform.platform()}\"\"\"\n",
    "    )\n",
    "    axes.plot(Numbers)\n",
    "    single_line_fig.tight_layout()\n",
    "    return single_line_fig"
   ]
  },
  {
   "cell_type": "code",
   "execution_count": null,
   "metadata": {
    "deletable": false,
    "nbgrader": {
     "cell_type": "code",
     "checksum": "97ed0d8ba1a435f691fb59af13c65751",
     "grade": false,
     "grade_id": "cell-answer-1-1",
     "locked": false,
     "schema_version": 3,
     "solution": true,
     "task": false
    }
   },
   "outputs": [],
   "source": [
    "%%writefile tests_validating_sum_of_squares_solution.py\n",
    "# make sure to run this cell before running the next one\n",
    "from initial_file import validating_sum_of_squares\n",
    "\n",
    "\n",
    "def tests_validating_sum_of_squares() -> None:\n",
    "\n",
    "    test_cases = [\n",
    "        (\n",
    "            [\"2\", \"x\", -10, 3.3, \"asd\", None, \"b\", 4.0],\n",
    "            [True, False, False, False, False, False, False, True],\n",
    "        ),\n",
    "        ([9, \"x\", -9, None], [True, False, False, False]),\n",
    "    ]\n",
    "\n",
    "    for _in, _out in test_cases:\n",
    "        _res = validating_sum_of_squares(_in)\n",
    "        assert (\n",
    "            _res == _out\n",
    "        ), f\"The function with input `{_in}` should return the value \\\n",
    "    `{_out}` of type `{type(_out)}`\\n but returned the value `{_res}` \\\n",
    "    of type `{type(_res)}`.\""
   ]
  },
  {
   "cell_type": "code",
   "execution_count": null,
   "metadata": {
    "deletable": false,
    "editable": false,
    "nbgrader": {
     "cell_type": "code",
     "checksum": "36d784d773ec72120c0fc2ca1c06aea7",
     "grade": true,
     "grade_id": "cell-tests-1-1",
     "locked": true,
     "points": 1,
     "schema_version": 3,
     "solution": false,
     "task": false
    }
   },
   "outputs": [],
   "source": [
    "# test cell\n",
    "print(\"Executing tests\", file=sys.stderr)\n",
    "try:\n",
    "    import initial_file\n",
    "except:\n",
    "    raise ValueError(\"You did not execute your solution cell!\")\n",
    "try:\n",
    "    from initial_file import validating_sum_of_squares\n",
    "except:\n",
    "    raise ValueError(\"Your solution does not contain the right function!\")\n",
    "\n",
    "!coverage run -m pytest tests_validating_sum_of_squares_solution.py"
   ]
  },
  {
   "cell_type": "code",
   "execution_count": null,
   "metadata": {},
   "outputs": [],
   "source": [
    "print(\"Validating the code quality\", file=sys.stderr)\n",
    "validate_python_code(\"tests_validating_sum_of_squares_solution.py\")\n",
    "print('tests passed', u'\\u2713')"
   ]
  },
  {
   "cell_type": "code",
   "execution_count": null,
   "metadata": {},
   "outputs": [],
   "source": [
    "%autoreload 2\n",
    "# %matplotlib inline\n",
    "import matplotlib.pyplot as plt\n",
    "\n",
    "from initial_file import generate_plot\n",
    "\n",
    "fig = plt.figure(figsize=(10, 5))\n",
    "fig = generate_plot(fig)\n",
    "plt.show()"
   ]
  },
  {
   "cell_type": "code",
   "execution_count": null,
   "metadata": {},
   "outputs": [],
   "source": [
    "# test cell\n",
    "validate_python_code(\"initial_file.py\")\n",
    "print('tests passed', u'\\u2713')"
   ]
  }
 ],
 "metadata": {
  "kernelspec": {
   "display_name": "venv",
   "language": "python",
   "name": "python3"
  },
  "language_info": {
   "codemirror_mode": {
    "name": "ipython",
    "version": 3
   },
   "file_extension": ".py",
   "mimetype": "text/x-python",
   "name": "python",
   "nbconvert_exporter": "python",
   "pygments_lexer": "ipython3",
   "version": "3.13.1"
  }
 },
 "nbformat": 4,
 "nbformat_minor": 4
}
